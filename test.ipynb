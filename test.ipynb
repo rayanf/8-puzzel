{
 "cells": [
  {
   "cell_type": "code",
   "execution_count": 1,
   "metadata": {},
   "outputs": [],
   "source": [
    "import pandas as pd"
   ]
  },
  {
   "cell_type": "code",
   "execution_count": 5,
   "metadata": {},
   "outputs": [
    {
     "data": {
      "text/html": [
       "<div>\n",
       "<style scoped>\n",
       "    .dataframe tbody tr th:only-of-type {\n",
       "        vertical-align: middle;\n",
       "    }\n",
       "\n",
       "    .dataframe tbody tr th {\n",
       "        vertical-align: top;\n",
       "    }\n",
       "\n",
       "    .dataframe thead th {\n",
       "        text-align: right;\n",
       "    }\n",
       "</style>\n",
       "<table border=\"1\" class=\"dataframe\">\n",
       "  <thead>\n",
       "    <tr style=\"text-align: right;\">\n",
       "      <th></th>\n",
       "      <th>DFSTime</th>\n",
       "      <th>BFSTime</th>\n",
       "      <th>IDSTime</th>\n",
       "      <th>UCSTime</th>\n",
       "      <th>AstarTime</th>\n",
       "      <th>DFSMemory</th>\n",
       "      <th>BFSMemory</th>\n",
       "      <th>IDSMemory</th>\n",
       "      <th>UCSMemory</th>\n",
       "      <th>AstarMemory</th>\n",
       "    </tr>\n",
       "  </thead>\n",
       "  <tbody>\n",
       "    <tr>\n",
       "      <th>0</th>\n",
       "      <td>2.818</td>\n",
       "      <td>0.161</td>\n",
       "      <td>5.731</td>\n",
       "      <td>0.143</td>\n",
       "      <td>0.155</td>\n",
       "      <td>0</td>\n",
       "      <td>0</td>\n",
       "      <td>0</td>\n",
       "      <td>0</td>\n",
       "      <td>0</td>\n",
       "    </tr>\n",
       "    <tr>\n",
       "      <th>1</th>\n",
       "      <td>0.298</td>\n",
       "      <td>0.219</td>\n",
       "      <td>6.035</td>\n",
       "      <td>0.284</td>\n",
       "      <td>0.344</td>\n",
       "      <td>0</td>\n",
       "      <td>0</td>\n",
       "      <td>0</td>\n",
       "      <td>0</td>\n",
       "      <td>0</td>\n",
       "    </tr>\n",
       "  </tbody>\n",
       "</table>\n",
       "</div>"
      ],
      "text/plain": [
       "   DFSTime  BFSTime  IDSTime  UCSTime  AstarTime  DFSMemory  BFSMemory  \\\n",
       "0    2.818    0.161    5.731    0.143      0.155          0          0   \n",
       "1    0.298    0.219    6.035    0.284      0.344          0          0   \n",
       "\n",
       "   IDSMemory  UCSMemory  AstarMemory  \n",
       "0          0          0            0  \n",
       "1          0          0            0  "
      ]
     },
     "execution_count": 5,
     "metadata": {},
     "output_type": "execute_result"
    }
   ],
   "source": [
    "pd.read_csv('results.csv')"
   ]
  }
 ],
 "metadata": {
  "kernelspec": {
   "display_name": "Python 3",
   "language": "python",
   "name": "python3"
  },
  "language_info": {
   "codemirror_mode": {
    "name": "ipython",
    "version": 3
   },
   "file_extension": ".py",
   "mimetype": "text/x-python",
   "name": "python",
   "nbconvert_exporter": "python",
   "pygments_lexer": "ipython3",
   "version": "3.8.10 (tags/v3.8.10:3d8993a, May  3 2021, 11:48:03) [MSC v.1928 64 bit (AMD64)]"
  },
  "orig_nbformat": 4,
  "vscode": {
   "interpreter": {
    "hash": "d18a5d0088d9e7d5605d2c30fc39dac8d7516e618be9efc9a9bb75a19460dd9e"
   }
  }
 },
 "nbformat": 4,
 "nbformat_minor": 2
}
